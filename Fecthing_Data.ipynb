# Multiple Agents 
from telethon import TelegramClient
from google.oauth2.service_account import Credentials
import gspread
from datetime import datetime, timedelta
import pytz
import asyncio

# Telegram API credentials
api_id = '22418128'  
api_hash = 'a10bd70b2a0cde0422d6adc3315fb948' 

# List of agents with their phone numbers and usernames
agents = [
    # {"phone": "+9647707441922", "username": "m_r_s44"},
    # {"phone": "+9647855418493", "username": "abwaab99"},

    {"phone": "+9647736167797", "username": "abwaab_24"},
    # {"phone": "+9647736167798", "username": "abwaabirq"},
    # {"phone": "+9647770287882", "username": "abwaab2025"},
   
]

# Google Sheets setup
SERVICE_ACCOUNT_FILE = "/content/abwaabrefdel-f5c6757bfd4e.json"
SHEET_NAME = "TEST_RESPONCE"

# Authenticate with Google Sheets
credentials = Credentials.from_service_account_file(
    SERVICE_ACCOUNT_FILE,
    scopes=["https://www.googleapis.com/auth/spreadsheets", "https://www.googleapis.com/auth/drive"]
)
gc = gspread.authorize(credentials)

# Open the Google Sheet
spreadsheet = gc.open(SHEET_NAME)
worksheet = spreadsheet.sheet1  # Assuming you are using the first sheet

# Function to fetch all messages for a single agent
async def fetch_agent_messages(client, agent_username):
    dialogs = await client.get_dialogs()
    all_messages = []
    utc_now = datetime.utcnow().replace(tzinfo=pytz.utc)
    two_days_ago_time = utc_now - timedelta(days=2)

    for dialog in dialogs:
        async for message in client.iter_messages(dialog.id, limit=1000000):
            if message.date < two_days_ago_time:
                break
            sender_username = message.sender.username if message.sender else "Unknown"
            direction = "Sent" if message.out else "Received"

            all_messages.append([
                dialog.name,                           # Chat name
                sender_username,                      # Sender username
                message.date.strftime('%Y-%m-%d'),    # Date in UTC
                message.date.strftime('%H:%M:%S'),    # Time in UTC
                message.text if message.text else "Media/Empty",  # Message text
                direction,                            # Sent or Received
                message.id,                           # Message ID
                agent_username                        # Agent username
            ])
    return all_messages


# Function to calculate response times
def calculate_response_times(data):
    conversations = {}  # Dictionary to store messages by conversation name

    for row in data:
        conversation_name = row[0]
        if conversation_name not in conversations:
            conversations[conversation_name] = []
        conversations[conversation_name].append(row)

    for conversation_name, messages in conversations.items():
        sorted_messages = sorted(messages, key=lambda x: (x[2], x[3]))
        last_received_time = None

        for i, message in enumerate(sorted_messages):
            timestamp = f"{message[2]} {message[3]}"
            message_time = datetime.strptime(timestamp, "%Y-%m-%d %H:%M:%S")
            message_status = message[5]

            if message_status == "Received":
                last_received_time = message_time
            elif message_status == "Sent" and last_received_time:
                response_time = (message_time - last_received_time).total_seconds()
                sorted_messages[i].append(response_time)
                last_received_time = None
            else:
                sorted_messages[i].append("N/A")

        conversations[conversation_name] = sorted_messages

    all_processed_messages = []
    for conversation in conversations.values():
        all_processed_messages.extend(conversation)

    return all_processed_messages

# Function to append messages to Google Sheets
def append_to_google_sheets(messages):
    headers = ["Conversation Name", "User Name", "Date", "Time", "Text", "Message Status", "Message ID", "Agent Username", "Response Time (seconds)"]

    if not messages:
        print("No messages to append.")
        return

    try:
        existing_headers = worksheet.row_values(1)
        if not existing_headers or existing_headers != headers:
            worksheet.insert_row(headers, index=1)
            print("Headers added to the Google Sheet.")

        processed_messages = calculate_response_times(messages)

        for message in processed_messages:
            while len(message) < len(headers):
                message.append("N/A")

        worksheet.append_rows(processed_messages, table_range="A2")
        print(f"Successfully appended {len(processed_messages)} rows to Google Sheets.")
    except Exception as e:
        print(f"Failed to append rows: {e}")


# Main function to fetch and process messages for all agents
async def main():
    all_messages = []

    for agent in agents:
        session_name = agent["username"]
        phone_number = agent["phone"]

        client = TelegramClient(session_name, api_id, api_hash)

        try:
            await client.start()
            if not await client.is_user_authorized():
                print(f"Logging in for {phone_number}. Follow prompts...")
                await client.send_code_request(phone_number)
                code = input(f"Enter the login code for {phone_number}: ")
                await client.sign_in(phone_number, code)

            print(f"Fetching messages for {agent['username']}...")
            agent_messages = await fetch_agent_messages(client, agent['username'])
            all_messages.extend(agent_messages)
        except Exception as e:
            print(f"Failed to fetch messages for {agent['username']}: {e}")
        finally:
            await client.disconnect()

    if all_messages:
        print(f"Fetched {len(all_messages)} messages from all agents. Appending to Google Sheets...")
        append_to_google_sheets(all_messages)
    else:
        print("No messages found.")


import nest_asyncio
nest_asyncio.apply()

# Run the main function
asyncio.run(main())


